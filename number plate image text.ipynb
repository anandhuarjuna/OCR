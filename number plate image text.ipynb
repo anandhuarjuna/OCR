{
 "cells": [
  {
   "cell_type": "code",
   "execution_count": 1,
   "metadata": {},
   "outputs": [],
   "source": [
    "import cv2\n",
    "import numpy as np\n",
    "import time"
   ]
  },
  {
   "cell_type": "code",
   "execution_count": 3,
   "metadata": {},
   "outputs": [
    {
     "ename": "error",
     "evalue": "OpenCV(4.7.0) D:\\a\\opencv-python\\opencv-python\\opencv\\modules\\dnn\\src\\dnn_read.cpp:52: error: (-2:Unspecified error) Cannot determine an origin framework of files: D:\\Computer Vision\\OCR\\yolo.cfg.txt in function 'cv::dnn::dnn4_v20221220::readNet'\n",
     "output_type": "error",
     "traceback": [
      "\u001b[1;31m---------------------------------------------------------------------------\u001b[0m",
      "\u001b[1;31merror\u001b[0m                                     Traceback (most recent call last)",
      "Cell \u001b[1;32mIn[3], line 2\u001b[0m\n\u001b[0;32m      1\u001b[0m \u001b[39m# Load YOLO model\u001b[39;00m\n\u001b[1;32m----> 2\u001b[0m model \u001b[39m=\u001b[39m cv2\u001b[39m.\u001b[39;49mdnn\u001b[39m.\u001b[39;49mreadNet(\u001b[39mr\u001b[39;49m\u001b[39m\"\u001b[39;49m\u001b[39mD:\u001b[39;49m\u001b[39m\\\u001b[39;49m\u001b[39mComputer Vision\u001b[39;49m\u001b[39m\\\u001b[39;49m\u001b[39mOCR\u001b[39;49m\u001b[39m\\\u001b[39;49m\u001b[39myolo.cfg.txt\u001b[39;49m\u001b[39m\"\u001b[39;49m)\n\u001b[0;32m      3\u001b[0m classes \u001b[39m=\u001b[39m []\n\u001b[0;32m      4\u001b[0m \u001b[39mwith\u001b[39;00m \u001b[39mopen\u001b[39m(\u001b[39m\"\u001b[39m\u001b[39mcoco.names\u001b[39m\u001b[39m\"\u001b[39m, \u001b[39m\"\u001b[39m\u001b[39mr\u001b[39m\u001b[39m\"\u001b[39m) \u001b[39mas\u001b[39;00m f:\n",
      "\u001b[1;31merror\u001b[0m: OpenCV(4.7.0) D:\\a\\opencv-python\\opencv-python\\opencv\\modules\\dnn\\src\\dnn_read.cpp:52: error: (-2:Unspecified error) Cannot determine an origin framework of files: D:\\Computer Vision\\OCR\\yolo.cfg.txt in function 'cv::dnn::dnn4_v20221220::readNet'\n"
     ]
    }
   ],
   "source": [
    "# Load YOLO model\n",
    "model = cv2.dnn.readNet(r\"D:\\Computer Vision\\OCR\\yolo.cfg.txt\")\n",
    "classes = []\n",
    "with open(\"coco.names\", \"r\") as f:\n",
    "    classes = [line.strip() for line in f.readlines()]\n",
    "layer_names = model.getLayerNames()\n",
    "output_layers = [layer_names[i[0] - 1] for i in model.getUnconnectedOutLayers()]\n",
    "colors = np.random.uniform(0, 255, size=(len(classes), 3))"
   ]
  },
  {
   "cell_type": "code",
   "execution_count": 48,
   "metadata": {},
   "outputs": [
    {
     "data": {
      "text/plain": [
       "<function destroyAllWindows>"
      ]
     },
     "execution_count": 48,
     "metadata": {},
     "output_type": "execute_result"
    }
   ],
   "source": [
    "# Load the image\n",
    "img = cv2.imread(r\"D:\\Computer Vision\\OCR\\Bullet.jpg\")\n",
    "# Resize the image\n",
    "image = imutils.resize(img, width=500)\n",
    "# Save the resized image\n",
    "cv2.imshow(\"Original Image\", image)\n",
    "cv2.waitKey()\n",
    "cv2.destroyAllWindows"
   ]
  },
  {
   "cell_type": "code",
   "execution_count": 49,
   "metadata": {},
   "outputs": [
    {
     "data": {
      "text/plain": [
       "<function destroyAllWindows>"
      ]
     },
     "execution_count": 49,
     "metadata": {},
     "output_type": "execute_result"
    }
   ],
   "source": [
    "# Preprocessing the image to make text clearer\n",
    "gray = cv2.cvtColor(image, cv2.COLOR_BGR2GRAY)\n",
    "gray = cv2.bilateralFilter(gray, 11, 17, 17)\n",
    "edged = cv2.Canny(gray, 170, 200)\n",
    "cv2.imshow('Gray image',gray)\n",
    "cv2.waitKey()\n",
    "cv2.destroyAllWindows"
   ]
  },
  {
   "cell_type": "code",
   "execution_count": 50,
   "metadata": {},
   "outputs": [],
   "source": [
    "contours, _ = cv2.findContours(edged.copy(), cv2.RETR_LIST, cv2.CHAIN_APPROX_SIMPLE)\n",
    "cnts=sorted(contours, key = cv2.contourArea, reverse = True)[:30] \n",
    "NumberPlateCnt = None "
   ]
  },
  {
   "cell_type": "code",
   "execution_count": 51,
   "metadata": {},
   "outputs": [],
   "source": [
    "count = 0\n",
    "for c in cnts:\n",
    "        peri = cv2.arcLength(c, True)\n",
    "        approx = cv2.approxPolyDP(c,0.10 * peri, True)\n",
    "        if len(approx) == 8:  \n",
    "            NumberPlateCnt = approx \n",
    "            break"
   ]
  },
  {
   "cell_type": "code",
   "execution_count": 52,
   "metadata": {},
   "outputs": [
    {
     "ename": "error",
     "evalue": "OpenCV(4.7.0) D:\\a\\opencv-python\\opencv-python\\opencv\\modules\\imgproc\\src\\drawing.cpp:2605: error: (-215:Assertion failed) reader.ptr != NULL in function 'cvDrawContours'\n",
     "output_type": "error",
     "traceback": [
      "\u001b[1;31m---------------------------------------------------------------------------\u001b[0m",
      "\u001b[1;31merror\u001b[0m                                     Traceback (most recent call last)",
      "Cell \u001b[1;32mIn[52], line 3\u001b[0m\n\u001b[0;32m      1\u001b[0m \u001b[39m# Masking the part other than the number plate\u001b[39;00m\n\u001b[0;32m      2\u001b[0m mask \u001b[39m=\u001b[39m np\u001b[39m.\u001b[39mzeros(gray\u001b[39m.\u001b[39mshape,np\u001b[39m.\u001b[39muint8)\n\u001b[1;32m----> 3\u001b[0m new_image \u001b[39m=\u001b[39m cv2\u001b[39m.\u001b[39;49mdrawContours(mask,[NumberPlateCnt],\u001b[39m0\u001b[39;49m,\u001b[39m250\u001b[39;49m,\u001b[39m-\u001b[39;49m\u001b[39m1\u001b[39;49m)\n\u001b[0;32m      4\u001b[0m new_image \u001b[39m=\u001b[39m cv2\u001b[39m.\u001b[39mbitwise_and(image,image,mask\u001b[39m=\u001b[39mmask)\n\u001b[0;32m      5\u001b[0m cv2\u001b[39m.\u001b[39mnamedWindow(\u001b[39m\"\u001b[39m\u001b[39mFinal_image\u001b[39m\u001b[39m\"\u001b[39m,cv2\u001b[39m.\u001b[39mWINDOW_NORMAL)\n",
      "\u001b[1;31merror\u001b[0m: OpenCV(4.7.0) D:\\a\\opencv-python\\opencv-python\\opencv\\modules\\imgproc\\src\\drawing.cpp:2605: error: (-215:Assertion failed) reader.ptr != NULL in function 'cvDrawContours'\n"
     ]
    }
   ],
   "source": [
    "# Masking the part other than the number plate\n",
    "mask = np.zeros(gray.shape,np.uint8)\n",
    "new_image = cv2.drawContours(mask,[NumberPlateCnt],0,250,-1)\n",
    "new_image = cv2.bitwise_and(image,image,mask=mask)\n",
    "cv2.namedWindow(\"Final_image\",cv2.WINDOW_NORMAL)\n",
    "cv2.imshow(\"Final_image\",new_image)\n",
    "cv2.waitKey()\n",
    "cv2.destroyAllWindows"
   ]
  },
  {
   "cell_type": "code",
   "execution_count": null,
   "metadata": {},
   "outputs": [],
   "source": [
    "# Apply Adaptive Threshold to the image\n",
    "threshold = cv2.adaptiveThreshold(gray, 255, cv2.ADAPTIVE_THRESH_GAUSSIAN_C, cv2.THRESH_BINARY, 11, 2)"
   ]
  },
  {
   "cell_type": "code",
   "execution_count": null,
   "metadata": {},
   "outputs": [],
   "source": [
    "# Use pytesseract to extract text from the image\n",
    "text=pytesseract.image_to_string(rimg)"
   ]
  },
  {
   "cell_type": "code",
   "execution_count": null,
   "metadata": {},
   "outputs": [
    {
     "data": {
      "text/plain": [
       "''"
      ]
     },
     "execution_count": 40,
     "metadata": {},
     "output_type": "execute_result"
    }
   ],
   "source": [
    "text"
   ]
  },
  {
   "cell_type": "code",
   "execution_count": null,
   "metadata": {},
   "outputs": [],
   "source": [
    "\n",
    "# Save the extracted text to an Excel file\n",
    "df = pd.DataFrame({'Number Plate': [text]})\n",
    "df.to_excel(\"number_plate.xlsx\", index=False)\n",
    "\n",
    "print(\"Number plate extracted and saved successfully!\")"
   ]
  }
 ],
 "metadata": {
  "kernelspec": {
   "display_name": "myenv",
   "language": "python",
   "name": "python3"
  },
  "language_info": {
   "codemirror_mode": {
    "name": "ipython",
    "version": 3
   },
   "file_extension": ".py",
   "mimetype": "text/x-python",
   "name": "python",
   "nbconvert_exporter": "python",
   "pygments_lexer": "ipython3",
   "version": "3.7.0"
  },
  "orig_nbformat": 4,
  "vscode": {
   "interpreter": {
    "hash": "a60c9595559c70b4dfe4ce9d3951f096e2d3eefba9e862c3f838be833c0cf30c"
   }
  }
 },
 "nbformat": 4,
 "nbformat_minor": 2
}
