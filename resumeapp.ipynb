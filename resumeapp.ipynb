{
 "cells": [
  {
   "cell_type": "code",
   "execution_count": 1,
   "metadata": {},
   "outputs": [],
   "source": [
    "import cv2\n",
    "import pytesseract\n",
    "import re\n",
    "import numpy as np\n",
    "import streamlit as st\n",
    "pytesseract.pytesseract.tesseract_cmd=r'C:\\Program Files\\Tesseract-OCR\\tesseract.exe'"
   ]
  },
  {
   "cell_type": "code",
   "execution_count": 2,
   "metadata": {},
   "outputs": [],
   "source": [
    "def ocr(file):\n",
    "    img=np.frombuffer(file.read(),np.uint8)\n",
    "    img=cv2.imdecode(img.cv2.INREAD_COLOR)\n",
    "    grey=cv2.cvtColor(img,cv2.COLOR_BGR2GRAY)\n",
    "    (thresh,binary)=cv2.threshold(grey,225,255,cv2.THRESH_BINARY)\n",
    "    data=pytesseract.image_to_string(binary)"
   ]
  },
  {
   "cell_type": "code",
   "execution_count": 3,
   "metadata": {},
   "outputs": [],
   "source": [
    "def check(resume,keywords):\n",
    "    text=ocr(resume)\n",
    "    text=text.lower()\n",
    "    l=[]\n",
    "    for i in keywords:\n",
    "        matches=re.findall(r'(?i)'+i,text)\n",
    "        l.extend(matches)\n",
    "    l=list(set(l))\n",
    "    st.write(l)\n",
    "    if len(l)>=3:\n",
    "        return True\n",
    "    else:\n",
    "        return False"
   ]
  },
  {
   "cell_type": "code",
   "execution_count": 4,
   "metadata": {},
   "outputs": [
    {
     "name": "stderr",
     "output_type": "stream",
     "text": [
      "2023-03-05 19:29:59.748 \n",
      "  \u001b[33m\u001b[1mWarning:\u001b[0m to view this Streamlit app on a browser, run it with the following\n",
      "  command:\n",
      "\n",
      "    streamlit run C:\\Users\\User\\AppData\\Roaming\\Python\\Python37\\site-packages\\ipykernel_launcher.py [ARGUMENTS]\n"
     ]
    }
   ],
   "source": [
    "def app():\n",
    "    st.title('Resume keyword check')\n",
    "    resume=st.file_uploader('Upload Resume',type=['Jpeg','jpg','png'])\n",
    "    keywords=st.text_input('Enter keywords')\n",
    "    if st.button('Search'):\n",
    "        keywords=[keyword.strip() for keyword in keywords.split(',')]\n",
    "        if resume is not None:\n",
    "            if check(resume,keywords):\n",
    "                st.write('Resume qualified')\n",
    "            else:\n",
    "                st.write('The resume has no enough keywords')\n",
    "        else:\n",
    "            st.write('Please upload Resume') \n",
    "app() "
   ]
  }
 ],
 "metadata": {
  "kernelspec": {
   "display_name": "myenv",
   "language": "python",
   "name": "python3"
  },
  "language_info": {
   "codemirror_mode": {
    "name": "ipython",
    "version": 3
   },
   "file_extension": ".py",
   "mimetype": "text/x-python",
   "name": "python",
   "nbconvert_exporter": "python",
   "pygments_lexer": "ipython3",
   "version": "3.7.0"
  },
  "orig_nbformat": 4,
  "vscode": {
   "interpreter": {
    "hash": "a60c9595559c70b4dfe4ce9d3951f096e2d3eefba9e862c3f838be833c0cf30c"
   }
  }
 },
 "nbformat": 4,
 "nbformat_minor": 2
}
